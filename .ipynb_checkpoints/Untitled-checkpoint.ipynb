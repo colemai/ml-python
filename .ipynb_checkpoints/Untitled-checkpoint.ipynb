{
 "cells": [
  {
   "cell_type": "code",
   "execution_count": 2,
   "metadata": {},
   "outputs": [],
   "source": [
    "#!/usr/bin/env python3\n",
    "\"\"\"\n",
    "Author: Ian Coleman\n",
    "Purpose: Create a template/example of linear regression optimised\n",
    "by gradient descent\n",
    "Input: \n",
    "Output:\n",
    "\"\"\"\n",
    "\n",
    "from sys import argv\n",
    "import pandas as pd\n",
    "import pylab\n",
    "import pdb"
   ]
  },
  {
   "cell_type": "code",
   "execution_count": 4,
   "metadata": {},
   "outputs": [],
   "source": [
    "#Import csv\n",
    "df = pd.read_csv('input-data/mlr07.csv')"
   ]
  },
  {
   "cell_type": "code",
   "execution_count": 5,
   "metadata": {},
   "outputs": [
    {
     "data": {
      "text/plain": [
       "[<matplotlib.lines.Line2D at 0x7fbfbc7e79b0>]"
      ]
     },
     "execution_count": 5,
     "metadata": {},
     "output_type": "execute_result"
    },
    {
     "data": {
      "image/png": "[encoded data removed]",
      "text/plain": [
       "<Figure size 432x288 with 1 Axes>"
      ]
     },
     "metadata": {},
     "output_type": "display_data"
    }
   ],
   "source": [
    "#Plot an x against y\n",
    "pylab.plot(df['perCapIncome'],df['deathRate'], 'o')"
   ]
  },
  {
   "cell_type": "code",
   "execution_count": 6,
   "metadata": {},
   "outputs": [],
   "source": [
    "def optimise_cost_func(x, y, current_B0 = 0, current_B1 = 0, iters=1000, alpha=0.001):\n",
    "\t\"\"\"\n",
    "\tPurpose: Optimise cost function of lin reg (one input var) using gradient descent\n",
    "\tInput: x: array of floats, y: array of floats same length as x\n",
    "\tOutput: Optimised B0, B1, last cost\n",
    "\t\"\"\"\n",
    "\tassert len(x) == len(y), \"Optimising error: x and y have different lengths\"\n",
    "\t\n",
    "\tm = len(y)\n",
    "\tfor i in range(iters):\n",
    "\t\tpred_y = current_B0 + (current_B1 * x)\n",
    "\t\tcost = sum([data **2 for data in (y - pred_y)])/m\n",
    "\t\tB0_gradient = -(2/m) * sum(x * (y - pred_y)) \n",
    "\t\tB1_gradient = -(2/m) * sum(y - pred_y)\n",
    "\t\tcurrent_B0 = current_B0 - (alpha * B0_gradient) \n",
    "\t\tcurrent_B1 = current_B1 - (alpha * B1_gradient)\n",
    "\treturn current_B0, current_B1, cost"
   ]
  },
  {
   "cell_type": "code",
   "execution_count": 8,
   "metadata": {},
   "outputs": [
    {
     "name": "stdout",
     "output_type": "stream",
     "text": [
      "(3.7317918902999514, 0.5853049061857939, 3.456193134755343)\n"
     ]
    }
   ],
   "source": [
    "if __name__ == \"__main__\":\n",
    "\tx = df['perCapIncome']\n",
    "\ty = df['deathRate']\n",
    "\t\n",
    "\t#plot x vs y\n",
    "\t# pylab.plot(x, y, 'o')\n",
    "\t# pylab.show()\n",
    "\n",
    "\toutputs = optimise_cost_func(x, y)\n",
    "\tprint(outputs)"
   ]
  }
 ],
 "metadata": {
  "kernelspec": {
   "display_name": "Python 3",
   "language": "python",
   "name": "python3"
  },
  "language_info": {
   "codemirror_mode": {
    "name": "ipython",
    "version": 3
   },
   "file_extension": ".py",
   "mimetype": "text/x-python",
   "name": "python",
   "nbconvert_exporter": "python",
   "pygments_lexer": "ipython3",
   "version": "3.6.5"
  }
 },
 "nbformat": 4,
 "nbformat_minor": 2
}
